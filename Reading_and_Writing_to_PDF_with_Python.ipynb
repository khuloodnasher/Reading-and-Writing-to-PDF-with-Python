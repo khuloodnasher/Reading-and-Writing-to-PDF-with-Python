{
  "nbformat": 4,
  "nbformat_minor": 0,
  "metadata": {
    "kernelspec": {
      "display_name": "Python 3.7 (tensorflow)",
      "language": "python",
      "name": "tensorflow"
    },
    "language_info": {
      "codemirror_mode": {
        "name": "ipython",
        "version": 3
      },
      "file_extension": ".py",
      "mimetype": "text/x-python",
      "name": "python",
      "nbconvert_exporter": "python",
      "pygments_lexer": "ipython3",
      "version": "3.7.7"
    },
    "toc": {
      "base_numbering": 1,
      "nav_menu": {},
      "number_sections": true,
      "sideBar": true,
      "skip_h1_title": false,
      "title_cell": "Table of Contents",
      "title_sidebar": "Contents",
      "toc_cell": true,
      "toc_position": {},
      "toc_section_display": true,
      "toc_window_display": false
    },
    "varInspector": {
      "cols": {
        "lenName": 16,
        "lenType": 16,
        "lenVar": 40
      },
      "kernels_config": {
        "python": {
          "delete_cmd_postfix": "",
          "delete_cmd_prefix": "del ",
          "library": "var_list.py",
          "varRefreshCmd": "print(var_dic_list())"
        },
        "r": {
          "delete_cmd_postfix": ") ",
          "delete_cmd_prefix": "rm(",
          "library": "var_list.r",
          "varRefreshCmd": "cat(var_dic_list()) "
        }
      },
      "types_to_exclude": [
        "module",
        "function",
        "builtin_function_or_method",
        "instance",
        "_Feature"
      ],
      "window_display": false
    },
    "colab": {
      "name": "Reading and Writing to PDF with Python.ipynb",
      "provenance": [],
      "include_colab_link": true
    }
  },
  "cells": [
    {
      "cell_type": "markdown",
      "metadata": {
        "id": "view-in-github",
        "colab_type": "text"
      },
      "source": [
        "<a href=\"https://colab.research.google.com/github/khuloodnasher/Reading-and-Writing-to-PDF-with-Python/blob/main/Reading_and_Writing_to_PDF_with_Python.ipynb\" target=\"_parent\"><img src=\"https://colab.research.google.com/assets/colab-badge.svg\" alt=\"Open In Colab\"/></a>"
      ]
    },
    {
      "cell_type": "markdown",
      "metadata": {
        "toc": true,
        "id": "H9PoCCJsFIeN"
      },
      "source": [
        "<h1>Table of Contents<span class=\"tocSkip\"></span></h1>\n",
        "<div class=\"toc\"><ul class=\"toc-item\"><li><ul class=\"toc-item\"><li><ul class=\"toc-item\"><li><ul class=\"toc-item\"><li><span><a href=\"#my_file-is-now-an-open-file-object-held-in-memory.-We'll-perform-some-reading-and-writing-exercises,-and-then-we-have-to-close-the-file-to-free-up-memory.\" data-toc-modified-id=\"my_file-is-now-an-open-file-object-held-in-memory.-We'll-perform-some-reading-and-writing-exercises,-and-then-we-have-to-close-the-file-to-free-up-memory.-0.0.0.1\"><span class=\"toc-item-num\">0.0.0.1&nbsp;&nbsp;</span>my_file is now an open file object held in memory. We'll perform some reading and writing exercises, and then we have to close the file to free up memory.</a></span></li></ul></li><li><span><a href=\"#AS-we-can-see-that-pdf-was-read-and-it-has-2-pages\" data-toc-modified-id=\"AS-we-can-see-that-pdf-was-read-and-it-has-2-pages-0.0.1\"><span class=\"toc-item-num\">0.0.1&nbsp;&nbsp;</span>AS we can see that pdf was read and it has 2 pages</a></span></li></ul></li></ul></li><li><span><a href=\"#Extracting-Texts:\" data-toc-modified-id=\"Extracting-Texts:-1\"><span class=\"toc-item-num\">1&nbsp;&nbsp;</span>Extracting Texts:</a></span></li><li><span><a href=\"#Extracting-texts-of-all-pages\" data-toc-modified-id=\"Extracting-texts-of-all-pages-2\"><span class=\"toc-item-num\">2&nbsp;&nbsp;</span>Extracting texts of all pages</a></span></li><li><span><a href=\"#Writing-to-PDFs\" data-toc-modified-id=\"Writing-to-PDFs-3\"><span class=\"toc-item-num\">3&nbsp;&nbsp;</span>Writing to PDFs</a></span><ul class=\"toc-item\"><li><span><a href=\"#python-is-not-able-to-write-directly-on-the-pdf-because-of-different-type-of-texts-that-pdfs-have.-However,-extra-pages-can-be-appended-from-other-pdfs.\" data-toc-modified-id=\"python-is-not-able-to-write-directly-on-the-pdf-because-of-different-type-of-texts-that-pdfs-have.-However,-extra-pages-can-be-appended-from-other-pdfs.-3.1\"><span class=\"toc-item-num\">3.1&nbsp;&nbsp;</span>python is not able to write directly on the pdf because of different type of texts that pdfs have. However, extra pages can be appended from other pdfs.</a></span></li></ul></li></ul></div>"
      ]
    },
    {
      "cell_type": "code",
      "metadata": {
        "ExecuteTime": {
          "end_time": "2020-10-31T04:21:38.347754Z",
          "start_time": "2020-10-31T04:21:36.754181Z"
        },
        "id": "WmZWpLq_FIeO",
        "outputId": "70c709bc-b491-421c-d314-3a9021dde059"
      },
      "source": [
        "pip install PyPDF2"
      ],
      "execution_count": null,
      "outputs": [
        {
          "output_type": "stream",
          "text": [
            "Requirement already satisfied: PyPDF2 in /Users/khuloodnasher/opt/anaconda3/envs/tensorflow/lib/python3.7/site-packages (1.26.0)\n",
            "\u001b[33mWARNING: You are using pip version 20.2.3; however, version 20.2.4 is available.\n",
            "You should consider upgrading via the '/Users/khuloodnasher/opt/anaconda3/envs/tensorflow/bin/python -m pip install --upgrade pip' command.\u001b[0m\n",
            "Note: you may need to restart the kernel to use updated packages.\n"
          ],
          "name": "stdout"
        }
      ]
    },
    {
      "cell_type": "code",
      "metadata": {
        "ExecuteTime": {
          "end_time": "2020-10-31T04:21:42.155476Z",
          "start_time": "2020-10-31T04:21:42.141215Z"
        },
        "id": "wvZzzL57FIeT"
      },
      "source": [
        "import PyPDF2"
      ],
      "execution_count": null,
      "outputs": []
    },
    {
      "cell_type": "code",
      "metadata": {
        "ExecuteTime": {
          "end_time": "2020-10-31T04:21:46.746533Z",
          "start_time": "2020-10-31T04:21:46.743411Z"
        },
        "id": "EcZZVtVgFIeV"
      },
      "source": [
        "my_file = open('prevention.pdf','rb')"
      ],
      "execution_count": null,
      "outputs": []
    },
    {
      "cell_type": "markdown",
      "metadata": {
        "id": "8wSnavC0FIeY"
      },
      "source": [
        "######  my_file is now an open file object held in memory. We'll perform some reading and writing exercises, and then we have to close the file to free up memory.\n"
      ]
    },
    {
      "cell_type": "code",
      "metadata": {
        "ExecuteTime": {
          "end_time": "2020-10-31T04:21:50.608307Z",
          "start_time": "2020-10-31T04:21:50.602016Z"
        },
        "id": "DbiT5AnlFIeY",
        "outputId": "7c1b59d0-d353-4b04-d257-df03e08fc67a"
      },
      "source": [
        "pdf_reader = PyPDF2.PdfFileReader(my_file)"
      ],
      "execution_count": null,
      "outputs": [
        {
          "output_type": "stream",
          "text": [
            "PdfReadWarning: Xref table not zero-indexed. ID numbers for objects will be corrected. [pdf.py:1736]\n"
          ],
          "name": "stderr"
        }
      ]
    },
    {
      "cell_type": "code",
      "metadata": {
        "ExecuteTime": {
          "end_time": "2020-10-31T04:21:53.454135Z",
          "start_time": "2020-10-31T04:21:53.437247Z"
        },
        "id": "bKvuFrOqFIeb",
        "outputId": "4537e6fe-47d6-472b-e02e-f405eb18d89f"
      },
      "source": [
        "pdf_reader.numPages"
      ],
      "execution_count": null,
      "outputs": [
        {
          "output_type": "execute_result",
          "data": {
            "text/plain": [
              "2"
            ]
          },
          "metadata": {
            "tags": []
          },
          "execution_count": 5
        }
      ]
    },
    {
      "cell_type": "markdown",
      "metadata": {
        "id": "112OLt_WFIed"
      },
      "source": [
        "##### AS we can see that pdf was read and it has 2 pages"
      ]
    },
    {
      "cell_type": "markdown",
      "metadata": {
        "id": "IHf9zUgoFIee"
      },
      "source": [
        "### Extracting Texts:"
      ]
    },
    {
      "cell_type": "code",
      "metadata": {
        "ExecuteTime": {
          "end_time": "2020-10-31T04:21:57.680809Z",
          "start_time": "2020-10-31T04:21:57.573831Z"
        },
        "id": "SELLkwXRFIee",
        "outputId": "081242d0-e5c2-4d75-94c0-9d47de6c83ae"
      },
      "source": [
        "first_page_text = pdf_reader.getPage(0).extractText()\n",
        "first_page_text"
      ],
      "execution_count": null,
      "outputs": [
        {
          "output_type": "execute_result",
          "data": {
            "text/plain": [
              "'CS 316291A    09/02/2020cdc.gov/coronavirus\\nHow to Protect Yourself and Others\\nKnow how it spreads\\nŁ There is currently no vaccine to prevent coronavirus disease 2019 (COVID-19).\\nŁ The best way to prevent illness is to avoid being exposed to this virus.\\nŁ The virus is thought to spread mainly from person-to-person.\\n »Between people who are in close contact with one another (within about 6 feet).\\n »Through respiratory droplets produced when an infected person coughs, sneezes\\n or talks.\\n »These droplets can land in the mouths or noses of people who are nearby or \\npossibly be inhaled into the lungs.\\n »COVID-19 may be spread by people who are not showing symptoms.\\nEveryone should \\nClean your hands often\\nŁ Wash your hands \\noften with soap and water for at least 20 seconds especially after \\nyou have been in a public place, or after blowing your nose, coughing, or sneezing.\\nŁ If soap and water are not readily available, \\nuse a hand sanitizer that contains at \\nleast 60% alcohol.\\n Cover all surfaces of your hands and rub them together until\\n they feel dry.\\nŁ Avoid touching your eyes, nose, and mouth \\nwith unwashed hands.\\nAvoid close contact\\nŁ Limit contact with others as much as possible.\\nŁ Avoid close contact\\n with people who are sick.\\nŁ Put distance between yourself and other people.\\n »Remember that some people without symptoms may be able to spread virus. \\n »This is especially important for \\npeople who are at higher risk of getting \\nvery sick. \\nwww.cdc.gov/coronavirus/2019-ncov/need-extra-precautions/people-\\nat-higher-risk.html\\nAccessible version: \\nhttps://www.cdc.gov/coronavirus/2019-ncov/prevent-getting-sick/prevention.html\\n'"
            ]
          },
          "metadata": {
            "tags": []
          },
          "execution_count": 6
        }
      ]
    },
    {
      "cell_type": "code",
      "metadata": {
        "ExecuteTime": {
          "end_time": "2020-10-31T04:22:07.354535Z",
          "start_time": "2020-10-31T04:22:07.321492Z"
        },
        "id": "GENC8k0oFIeh",
        "outputId": "8c7809bc-2bff-40c7-ffb0-5baa31e77c09"
      },
      "source": [
        "second_page_text = pdf_reader.getPage(1).extractText()\n",
        "second_page_text"
      ],
      "execution_count": null,
      "outputs": [
        {
          "output_type": "execute_result",
          "data": {
            "text/plain": [
              "'Ł You could spread COVID-19 to others\\n even if you do not feel sick. \\nŁ Everyone should wear a mask in public settings \\nand when around people not \\nliving in their household, especially when social distancing\\n is di˜cult to maintain. \\n »Masks should not be placed on young children under age 2, anyone who has \\ntrouble breathing, or is unconscious, incapacitated or otherwise unable to remove \\nthe mask without assistance.\\nŁ  The mask is meant to protect other people \\nin case you are infected.\\nŁ  Do \\nNOT\\n use a facemask meant for a healthcare worker. \\nŁ Continue to \\nkeep about 6 feet between yourself and others.\\n The mask is not a \\nsubstitute for social distancing.\\nCover coughs and sneezes\\nŁ Always cover your mouth and nose \\nwith a tissue when you cough or sneeze or \\nuse the inside of your elbow.\\nŁ Throw used tissues\\n in the trash.\\nŁ Immediately \\nwash your hands \\nwith soap and water for at least 20 seconds. If \\nsoap and water are not readily available, clean your hands with a hand sanitizer that \\ncontains at least 60% alcohol.\\nClean and disinfect\\nŁ Clean AND disinfect frequently touched surfaces \\ndaily. This includes tables, \\ndoorknobs, light switches, countertops, handles, desks, phones, keyboards, toilets, \\nfaucets, and sinks. \\nwww.cdc.gov/coronavirus/2019-ncov/prevent-getting-sick/\\ndisinfecting-your-home.html\\nŁ If surfaces are dirty, clean them: \\nUse detergent or soap and water prior\\n to disinfection.\\nŁ Then, use a household disinfectant\\n. You can see a list of \\nEPA-registered \\nhousehold disinfectants here\\n.Cover your mouth and nose with a mask when around others\\ncdc.gov/coronavirus\\n'"
            ]
          },
          "metadata": {
            "tags": []
          },
          "execution_count": 7
        }
      ]
    },
    {
      "cell_type": "code",
      "metadata": {
        "ExecuteTime": {
          "end_time": "2020-10-31T04:22:09.988615Z",
          "start_time": "2020-10-31T04:22:09.984913Z"
        },
        "id": "nFego6yKFIej",
        "outputId": "a7c5fb3c-5dbe-4908-9864-e82c29eeef3f"
      },
      "source": [
        "print(second_page_text)"
      ],
      "execution_count": null,
      "outputs": [
        {
          "output_type": "stream",
          "text": [
            "Ł You could spread COVID-19 to others\n",
            " even if you do not feel sick. \n",
            "Ł Everyone should wear a mask in public settings \n",
            "and when around people not \n",
            "living in their household, especially when social distancing\n",
            " is di˜cult to maintain. \n",
            " »Masks should not be placed on young children under age 2, anyone who has \n",
            "trouble breathing, or is unconscious, incapacitated or otherwise unable to remove \n",
            "the mask without assistance.\n",
            "Ł  The mask is meant to protect other people \n",
            "in case you are infected.\n",
            "Ł  Do \n",
            "NOT\n",
            " use a facemask meant for a healthcare worker. \n",
            "Ł Continue to \n",
            "keep about 6 feet between yourself and others.\n",
            " The mask is not a \n",
            "substitute for social distancing.\n",
            "Cover coughs and sneezes\n",
            "Ł Always cover your mouth and nose \n",
            "with a tissue when you cough or sneeze or \n",
            "use the inside of your elbow.\n",
            "Ł Throw used tissues\n",
            " in the trash.\n",
            "Ł Immediately \n",
            "wash your hands \n",
            "with soap and water for at least 20 seconds. If \n",
            "soap and water are not readily available, clean your hands with a hand sanitizer that \n",
            "contains at least 60% alcohol.\n",
            "Clean and disinfect\n",
            "Ł Clean AND disinfect frequently touched surfaces \n",
            "daily. This includes tables, \n",
            "doorknobs, light switches, countertops, handles, desks, phones, keyboards, toilets, \n",
            "faucets, and sinks. \n",
            "www.cdc.gov/coronavirus/2019-ncov/prevent-getting-sick/\n",
            "disinfecting-your-home.html\n",
            "Ł If surfaces are dirty, clean them: \n",
            "Use detergent or soap and water prior\n",
            " to disinfection.\n",
            "Ł Then, use a household disinfectant\n",
            ". You can see a list of \n",
            "EPA-registered \n",
            "household disinfectants here\n",
            ".Cover your mouth and nose with a mask when around others\n",
            "cdc.gov/coronavirus\n",
            "\n"
          ],
          "name": "stdout"
        }
      ]
    },
    {
      "cell_type": "markdown",
      "metadata": {
        "id": "WWfvNgihFIel"
      },
      "source": [
        "### Extracting texts of all pages "
      ]
    },
    {
      "cell_type": "code",
      "metadata": {
        "id": "sXfRKEXrFIem"
      },
      "source": [
        "# Listing of every page's text.\n",
        "# open my pdf\n",
        "pfd_doc = open('prevention.pdf','rb')\n",
        "\n",
        "# create empty list of pdf text\n",
        "pdf_text = []  \n",
        "\n",
        "# create pdf reader object\n",
        "pdf_reader = PyPDF2.PdfFileReader(pfd_doc)\n",
        "\n",
        "# range is 2, because number of pages is 2\n",
        "for p in range(pdf_reader.numPages):\n",
        "    # specify the page that its text will be extracted\n",
        "    \n",
        "    page = pdf_reader.getPage(p)\n",
        "    \n",
        "    # extracting the texts of each page and append it to the empty list\n",
        "    pdf_text.append(page.extractText())\n",
        "\n",
        "pfd_doc.close()"
      ],
      "execution_count": null,
      "outputs": []
    },
    {
      "cell_type": "code",
      "metadata": {
        "id": "t2EK8zBOFIeo"
      },
      "source": [
        "pdf_text"
      ],
      "execution_count": null,
      "outputs": []
    },
    {
      "cell_type": "code",
      "metadata": {
        "id": "xuDWSaoTFIeq"
      },
      "source": [
        "# print second page\n",
        "print(pdf_text[1])"
      ],
      "execution_count": null,
      "outputs": []
    },
    {
      "cell_type": "markdown",
      "metadata": {
        "ExecuteTime": {
          "end_time": "2020-10-28T01:47:43.927265Z",
          "start_time": "2020-10-28T01:47:43.924781Z"
        },
        "id": "23C1DiMcFIes"
      },
      "source": [
        "### Writing to PDFs\n",
        "#### python is not able to write directly on the pdf because of different type of texts that pdfs have. However, extra pages can be appended from other pdfs. \n",
        "\n"
      ]
    },
    {
      "cell_type": "code",
      "metadata": {
        "ExecuteTime": {
          "end_time": "2020-10-31T04:22:15.921002Z",
          "start_time": "2020-10-31T04:22:15.916522Z"
        },
        "id": "EAAy_nqnFIet"
      },
      "source": [
        "# extracting second page by pdfReader from my original document\n",
        "# adding the extracted page by PdfWriter\n",
        "second_page=pdf_reader.getPage(1)\n",
        "pdf_writer = PyPDF2.PdfFileWriter()\n",
        "pdf_writer.addPage(second_page)"
      ],
      "execution_count": null,
      "outputs": []
    },
    {
      "cell_type": "code",
      "metadata": {
        "ExecuteTime": {
          "end_time": "2020-10-31T04:24:02.582898Z",
          "start_time": "2020-10-31T04:24:02.563863Z"
        },
        "id": "Td4-drVFFIev"
      },
      "source": [
        "# creating my own pdf file, notice using binary writing because it is pdf'wb'\n",
        "my_doc=open('khulood_nasher.pdf','wb')\n",
        "\n",
        "#copy the page to my new pdf file\n",
        "pdf_writer.write(my_doc) \n",
        "\n",
        "# closing documents to avoid issues of opening same file from anywhere in my computer\n",
        "my_doc.close()\n",
        "my_file.close()"
      ],
      "execution_count": null,
      "outputs": []
    },
    {
      "cell_type": "code",
      "metadata": {
        "ExecuteTime": {
          "end_time": "2020-10-31T04:24:05.694075Z",
          "start_time": "2020-10-31T04:24:05.660603Z"
        },
        "id": "YvLE7X2ZFIex",
        "outputId": "cf97a211-f271-45a5-ae63-b12ffe6c7cfe"
      },
      "source": [
        "# reading my created pdf doc to check if it has copy of second page\n",
        "#opening my pdf doc\n",
        "new_doc=open('khulood_nasher.pdf','rb')\n",
        "\n",
        "# creating pdf reader object using PyPDF2\n",
        "pdf_reader=PyPDF2.PdfFileReader(new_doc)\n",
        "\n",
        "# checking number of pages\n",
        "print(pdf_reader.numPages)\n",
        "# extracting text\n",
        "copied_page_text = pdf_reader.getPage(0).extractText()\n",
        "copied_page_text"
      ],
      "execution_count": null,
      "outputs": [
        {
          "output_type": "stream",
          "text": [
            "1\n"
          ],
          "name": "stdout"
        },
        {
          "output_type": "execute_result",
          "data": {
            "text/plain": [
              "'Ł You could spread COVID-19 to others\\n even if you do not feel sick. \\nŁ Everyone should wear a mask in public settings \\nand when around people not \\nliving in their household, especially when social distancing\\n is di˜cult to maintain. \\n »Masks should not be placed on young children under age 2, anyone who has \\ntrouble breathing, or is unconscious, incapacitated or otherwise unable to remove \\nthe mask without assistance.\\nŁ  The mask is meant to protect other people \\nin case you are infected.\\nŁ  Do \\nNOT\\n use a facemask meant for a healthcare worker. \\nŁ Continue to \\nkeep about 6 feet between yourself and others.\\n The mask is not a \\nsubstitute for social distancing.\\nCover coughs and sneezes\\nŁ Always cover your mouth and nose \\nwith a tissue when you cough or sneeze or \\nuse the inside of your elbow.\\nŁ Throw used tissues\\n in the trash.\\nŁ Immediately \\nwash your hands \\nwith soap and water for at least 20 seconds. If \\nsoap and water are not readily available, clean your hands with a hand sanitizer that \\ncontains at least 60% alcohol.\\nClean and disinfect\\nŁ Clean AND disinfect frequently touched surfaces \\ndaily. This includes tables, \\ndoorknobs, light switches, countertops, handles, desks, phones, keyboards, toilets, \\nfaucets, and sinks. \\nwww.cdc.gov/coronavirus/2019-ncov/prevent-getting-sick/\\ndisinfecting-your-home.html\\nŁ If surfaces are dirty, clean them: \\nUse detergent or soap and water prior\\n to disinfection.\\nŁ Then, use a household disinfectant\\n. You can see a list of \\nEPA-registered \\nhousehold disinfectants here\\n.Cover your mouth and nose with a mask when around others\\ncdc.gov/coronavirus\\n'"
            ]
          },
          "metadata": {
            "tags": []
          },
          "execution_count": 11
        }
      ]
    },
    {
      "cell_type": "code",
      "metadata": {
        "id": "St0SgjkPFIe0"
      },
      "source": [
        ""
      ],
      "execution_count": null,
      "outputs": []
    }
  ]
}